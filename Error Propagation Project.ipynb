{
 "cells": [
  {
   "cell_type": "markdown",
   "id": "574e7d66",
   "metadata": {
    "slideshow": {
     "slide_type": "-"
    }
   },
   "source": [
    "## Error Propagation\n",
    "\n",
    "Error Propagation: is the effect of variables' uncertainties (or errors, more specifically random errors) on the uncertainty of a function based on them\n",
    "(https://en.wikipedia.org/wiki/Propagation_of_uncertainty)\n",
    "\n"
   ]
  },
  {
   "cell_type": "markdown",
   "id": "c41fc9e8",
   "metadata": {
    "slideshow": {
     "slide_type": "-"
    }
   },
   "source": [
    "Example: Propagating error from experimental measurements of <font color='blue'>FLOW RATE, q</font> and <font color='blue'>LIQUID VOLUME, $V_L$</font> to the  <font color='blue'>MASS TRANSFER COEFFICIENT, $K_La$</font>\n",
    "\n",
    "Model:\n",
    "\n",
    "\\begin{equation}\n",
    "\\frac{dC_L}{dt}=K_La(C_S-C_L)\n",
    "\\end{equation}  \n",
    "\n",
    "where\n",
    "\\begin{equation}\n",
    "C_L=\\frac{EOS(P,T,V(q))}{V_L}\n",
    "\\end{equation} \n",
    "\n",
    "$C_L$  is the dissolved gas molar or mass concentration in the liquid phase at time t [mol/l], $C_S$  is the saturated dissolved gas molar or mass concentration in the liquid [mol/l], $K_La$ is the mass transfer coefficient of the system (1/s).\n",
    "\n",
    "Integrating the model and applying initial conditions yield: \n",
    "\n",
    "\\begin{equation}\n",
    "\\ln\\frac{C_S-C_O}{C_S-C_L}=K_La*t\n",
    "\\end{equation}\n",
    "\n",
    "$C_O$ is the dissolved gas concentration in the liquid phase at the beginning of the experiment [mol/l]. "
   ]
  },
  {
   "cell_type": "markdown",
   "id": "4ed4d8a3",
   "metadata": {},
   "source": [
    "Error Propagation Methods:\n",
    "\n",
    "1. Monte Carlo Methods\n",
    "2. Calculus Based Approach\t\n",
    "(https://pubs.acs.org/doi/pdf/10.1021/ed1004307)"
   ]
  },
  {
   "cell_type": "markdown",
   "id": "bd904109",
   "metadata": {
    "slideshow": {
     "slide_type": "slide"
    }
   },
   "source": [
    "OBJECTIVE: To develop a program that can be used to propagate experimental errors from the raw data to the the mass transfer coefficient.\n",
    "\n",
    "RAW DATA: \n",
    "- Time series data of desorbed gas flow rate from a specific liquid.\n",
    "- Liquid volume\n"
   ]
  },
  {
   "cell_type": "code",
   "execution_count": 1,
   "id": "08374edb",
   "metadata": {},
   "outputs": [],
   "source": [
    "import numpy as np\n",
    "import pandas as pd\n",
    "import matplotlib.pyplot as plt\n",
    "from mpl_toolkits.axes_grid1.inset_locator import inset_axes"
   ]
  },
  {
   "cell_type": "markdown",
   "id": "65048877",
   "metadata": {},
   "source": [
    "Method 1: Monte Carlo Error Propagation technique"
   ]
  },
  {
   "cell_type": "markdown",
   "id": "af79e94a",
   "metadata": {},
   "source": [
    "Step 1: Read data and convert to arrays"
   ]
  },
  {
   "cell_type": "markdown",
   "id": "c901b017",
   "metadata": {},
   "source": [
    "Given:\n",
    "- Initial volume of dissolved gas in the liquid phase at the start of the experiment, Vo = 2.34 ml\n",
    "- Liquid volume, lv = 0.53ml\n",
    "- Flow meter readings were measured at normal conditions (i.e. P = 1 atm & T = 273.15 K)\n",
    "- Real gas constant, 0.082057 (L)atm/mol/k\n",
    "- reading frequence = 1 reading/0.2s"
   ]
  },
  {
   "cell_type": "code",
   "execution_count": 2,
   "id": "73e6ad79",
   "metadata": {},
   "outputs": [],
   "source": [
    "Vo = 2.34\n",
    "lv = [0.53]\n",
    "Cs = 0.01802\n",
    "P = 1\n",
    "T = 273.15\n",
    "R = 0.082057\n",
    "t = 0.2/60"
   ]
  },
  {
   "cell_type": "code",
   "execution_count": 3,
   "id": "b67d6500",
   "metadata": {},
   "outputs": [
    {
     "name": "stdout",
     "output_type": "stream",
     "text": [
      "Index(['Time', 'Flow rate(ln/min)'], dtype='object')\n",
      "(985, 2)\n"
     ]
    }
   ],
   "source": [
    "#read the raw data \n",
    "df = pd.read_csv('ErrorPropagation.csv')\n",
    "print(df.columns)\n",
    "print(df.shape)"
   ]
  },
  {
   "cell_type": "code",
   "execution_count": 4,
   "id": "3528868c",
   "metadata": {},
   "outputs": [],
   "source": [
    "# convert data to arrays \n",
    "time = np.asarray(df['Time'],dtype='float') \n",
    "q = np.asarray(df['Flow rate(ln/min)'],dtype='float') "
   ]
  },
  {
   "cell_type": "markdown",
   "id": "ba829fe1",
   "metadata": {},
   "source": [
    "Step 2: generate random numbers of the raw data and reshape to desired shape"
   ]
  },
  {
   "cell_type": "code",
   "execution_count": 5,
   "id": "9798613f",
   "metadata": {},
   "outputs": [],
   "source": [
    "n = 1000\n",
    "f_sig = 0.01 #uncertainty in flow rate measurement (stdev)\n",
    "l = len(q)\n",
    "lv_sig = 0.001 #uncertainty in liquid volume measurement (stdev)"
   ]
  },
  {
   "cell_type": "code",
   "execution_count": 6,
   "id": "34305854",
   "metadata": {},
   "outputs": [],
   "source": [
    "#np.random.normal(mean, stdev, size/shape) \n",
    "q_rand = np.random.normal(q,f_sig,(n,l)) # no of random numbers comes first\n",
    "lv_rand = np.random.normal(lv,lv_sig,(n,len(lv)))"
   ]
  },
  {
   "cell_type": "code",
   "execution_count": 7,
   "id": "62f24458",
   "metadata": {
    "scrolled": true
   },
   "outputs": [
    {
     "name": "stdout",
     "output_type": "stream",
     "text": [
      "(1000, 985)\n",
      "(1000, 1)\n"
     ]
    }
   ],
   "source": [
    "#check output\n",
    "print(q_rand.shape)\n",
    "print(lv_rand.shape)"
   ]
  },
  {
   "cell_type": "code",
   "execution_count": 8,
   "id": "4df31870",
   "metadata": {},
   "outputs": [
    {
     "name": "stdout",
     "output_type": "stream",
     "text": [
      "(985, 1000)\n",
      "(1, 1000)\n"
     ]
    }
   ],
   "source": [
    "q_rand = q_rand.T #transpose so as to have flow rates as rows\n",
    "lv_rand = lv_rand.T\n",
    "print(q_rand.shape)\n",
    "print(lv_rand.shape)"
   ]
  },
  {
   "cell_type": "markdown",
   "id": "471e5c09",
   "metadata": {},
   "source": [
    "Step 3: Define the model"
   ]
  },
  {
   "cell_type": "markdown",
   "id": "42751eca",
   "metadata": {},
   "source": [
    "\\begin{equation}\n",
    "C_L=\\frac{EOS(P,T,V(q))}{V_L}\n",
    "\\end{equation} "
   ]
  },
  {
   "cell_type": "code",
   "execution_count": 9,
   "id": "7cd10c76",
   "metadata": {},
   "outputs": [],
   "source": [
    "def Cl(q,L):\n",
    "    V = q*t #evolved volume during each time step\n",
    "    TV = np.cumsum(V,axis = 0) #Cummulated volume from start to that time step\n",
    "    return P*(Vo-TV)/R/T/L"
   ]
  },
  {
   "cell_type": "code",
   "execution_count": 10,
   "id": "c553efb5",
   "metadata": {},
   "outputs": [
    {
     "data": {
      "image/png": "[encoded data removed]",
      "text/plain": [
       "<Figure size 432x288 with 2 Axes>"
      ]
     },
     "metadata": {
      "needs_background": "light"
     },
     "output_type": "display_data"
    }
   ],
   "source": [
    "fig,ax=plt.subplots(figsize=[6,4])\n",
    "axins=inset_axes(ax,width='38%', height = '40%',loc=3,borderpad=3.8)\n",
    "ax.plot(time,Cl(q_rand,lv_rand))\n",
    "ax.set_title('Concentration of gas (with uncertainty) in the liquid phase over time')\n",
    "ax.set_xlabel('Time(s)')\n",
    "ax.set_ylabel('Concentration (mol/l)')\n",
    "axins.plot(time,Cl(q_rand,lv_rand))\n",
    "axins.set_ylim((0.19,0.2))\n",
    "axins.set_xlim((0,20))\n",
    "plt.show()"
   ]
  },
  {
   "cell_type": "markdown",
   "id": "2644d4ef",
   "metadata": {},
   "source": [
    "\\begin{equation}\n",
    "\\ln\\frac{C_S-C_O}{C_S-C_L}=K_La*t\n",
    "\\end{equation}"
   ]
  },
  {
   "cell_type": "code",
   "execution_count": 11,
   "id": "67f579b2",
   "metadata": {},
   "outputs": [],
   "source": [
    "def Kla(q,L):\n",
    "    V = q*t\n",
    "    TV = np.cumsum(V,axis = 0)\n",
    "    Co = P*Vo/R/T/L\n",
    "    Cl = P*(Vo-TV)/R/T/L\n",
    "    y = np.log((Cs-Co)/(Cs-Cl))\n",
    "    slope, intercept = np.polyfit(time,y,1)\n",
    "    return slope"
   ]
  },
  {
   "cell_type": "markdown",
   "id": "91a68d34",
   "metadata": {},
   "source": [
    "Step 4 : Display results "
   ]
  },
  {
   "cell_type": "code",
   "execution_count": 12,
   "id": "f8b438e1",
   "metadata": {},
   "outputs": [],
   "source": [
    "Kla = Kla(q_rand,lv_rand) #use the randomized data as input"
   ]
  },
  {
   "cell_type": "code",
   "execution_count": 13,
   "id": "9cb5217c",
   "metadata": {},
   "outputs": [
    {
     "name": "stdout",
     "output_type": "stream",
     "text": [
      "Kla: 0.0035516020628327386\n",
      "Error: 5.08368355119112e-06\n"
     ]
    }
   ],
   "source": [
    "print(\"Kla:\",np.mean(Kla))\n",
    "print(\"Error:\",np.std(Kla))  #error in Kla as a result of flow rate error of 0.01 and liquid volume error of 0.001"
   ]
  },
  {
   "cell_type": "code",
   "execution_count": 14,
   "id": "ac3a6fbe",
   "metadata": {},
   "outputs": [],
   "source": [
    "df_Kla = pd.DataFrame(Kla) #convert to dataframe "
   ]
  },
  {
   "cell_type": "code",
   "execution_count": 15,
   "id": "a2daaaec",
   "metadata": {},
   "outputs": [
    {
     "data": {
      "text/html": [
       "<div>\n",
       "<style scoped>\n",
       "    .dataframe tbody tr th:only-of-type {\n",
       "        vertical-align: middle;\n",
       "    }\n",
       "\n",
       "    .dataframe tbody tr th {\n",
       "        vertical-align: top;\n",
       "    }\n",
       "\n",
       "    .dataframe thead th {\n",
       "        text-align: right;\n",
       "    }\n",
       "</style>\n",
       "<table border=\"1\" class=\"dataframe\">\n",
       "  <thead>\n",
       "    <tr style=\"text-align: right;\">\n",
       "      <th></th>\n",
       "      <th>0</th>\n",
       "    </tr>\n",
       "  </thead>\n",
       "  <tbody>\n",
       "    <tr>\n",
       "      <th>count</th>\n",
       "      <td>1000.000000</td>\n",
       "    </tr>\n",
       "    <tr>\n",
       "      <th>mean</th>\n",
       "      <td>0.003552</td>\n",
       "    </tr>\n",
       "    <tr>\n",
       "      <th>std</th>\n",
       "      <td>0.000005</td>\n",
       "    </tr>\n",
       "    <tr>\n",
       "      <th>min</th>\n",
       "      <td>0.003536</td>\n",
       "    </tr>\n",
       "    <tr>\n",
       "      <th>25%</th>\n",
       "      <td>0.003548</td>\n",
       "    </tr>\n",
       "    <tr>\n",
       "      <th>50%</th>\n",
       "      <td>0.003552</td>\n",
       "    </tr>\n",
       "    <tr>\n",
       "      <th>75%</th>\n",
       "      <td>0.003555</td>\n",
       "    </tr>\n",
       "    <tr>\n",
       "      <th>max</th>\n",
       "      <td>0.003567</td>\n",
       "    </tr>\n",
       "  </tbody>\n",
       "</table>\n",
       "</div>"
      ],
      "text/plain": [
       "                 0\n",
       "count  1000.000000\n",
       "mean      0.003552\n",
       "std       0.000005\n",
       "min       0.003536\n",
       "25%       0.003548\n",
       "50%       0.003552\n",
       "75%       0.003555\n",
       "max       0.003567"
      ]
     },
     "execution_count": 15,
     "metadata": {},
     "output_type": "execute_result"
    }
   ],
   "source": [
    "df_Kla.describe() #show statistics"
   ]
  },
  {
   "cell_type": "code",
   "execution_count": 16,
   "id": "aa8ac9d4",
   "metadata": {},
   "outputs": [
    {
     "data": {
      "image/png": "[encoded data removed]",
      "text/plain": [
       "<Figure size 432x288 with 1 Axes>"
      ]
     },
     "metadata": {
      "needs_background": "light"
     },
     "output_type": "display_data"
    }
   ],
   "source": [
    "fig, ax = plt.subplots(figsize =(6, 4))\n",
    "ax.hist(Kla)\n",
    "ax.set_ylabel(\"Frequency\")\n",
    "ax.set_xlabel(\"Kla (1/s)\")\n",
    "plt.xticks(rotation=45)\n",
    "plt.show()"
   ]
  },
  {
   "cell_type": "markdown",
   "id": "ec210af5",
   "metadata": {},
   "source": [
    "Method 2: Calculus Based Approach"
   ]
  },
  {
   "cell_type": "markdown",
   "id": "4648eca3",
   "metadata": {},
   "source": [
    "\\begin{equation}\n",
    "\\frac{\\partial f}{\\partial v_j}\\approx\\ \\frac{f(v_1, v_2,...,v_j + \\Delta v_j,...v_n)-f(v_1, v_2,...,v_j - \\Delta v_j,...v_n)}{2\\Delta v_j}\n",
    "\\end{equation}\n",
    "\n",
    "using $\\sigma_j$ as $\\Delta v_j$, the equation becomes:\n",
    "\\begin{equation}\n",
    "\\sigma_y^2 = \\sum_{j=1}^{n}\\left[\\frac{f(v_1, v_2,...,v_j + \\sigma_j,...,v_n)-f(v_1, v_2,...,v_j - \\sigma_j,...,v_n)}{2\\sigma_j} \\right]^2 \\sigma_j^2\n",
    "\\end{equation}\n",
    "\n",
    "\\begin{equation}\n",
    "\\sigma_y^2 = \\sum_{j=1}^{n}\\left[\\frac{f(v_1, v_2,...,v_j + \\sigma_j,...,v_n)-f(v_1, v_2,...,v_j - \\sigma_j,...,v_n)}{2} \\right]^2 \n",
    "\\end{equation}"
   ]
  },
  {
   "cell_type": "markdown",
   "id": "0676f720",
   "metadata": {},
   "source": [
    "step 1: Define model"
   ]
  },
  {
   "cell_type": "code",
   "execution_count": 17,
   "id": "e6a90f74",
   "metadata": {},
   "outputs": [],
   "source": [
    "q2 = np.asarray(df['Flow rate(ln/min)'],dtype='float') #reload flow rate data\n",
    "lv2 = 0.53"
   ]
  },
  {
   "cell_type": "code",
   "execution_count": 18,
   "id": "e62fd933",
   "metadata": {},
   "outputs": [],
   "source": [
    "def Kla2(q,L):\n",
    "    V = q*t\n",
    "    TV = np.cumsum(V,axis = 0)\n",
    "    Co = P*Vo/R/T/L\n",
    "    Cl = P*(Vo-TV)/R/T/L\n",
    "    y = np.log((Cs-Co)/(Cs-Cl))\n",
    "    slope, intercept = np.polyfit(time,y,1)\n",
    "    return slope"
   ]
  },
  {
   "cell_type": "markdown",
   "id": "413024f2",
   "metadata": {},
   "source": [
    "Step 2: Applying Calculus approach equation:"
   ]
  },
  {
   "cell_type": "code",
   "execution_count": 19,
   "id": "315dc09f",
   "metadata": {},
   "outputs": [],
   "source": [
    "a = Kla2(q2,lv2) \n",
    "b = Kla2(q2+f_sig,lv2) #Kla value when flow rate error is added to flow rate\n",
    "c = Kla2(q2-f_sig,lv2) #Kla value when flow rate error is taken from the flow rate\n",
    "d = Kla2(q2,lv2+lv_sig) #Kla value when liquid volume error is added to liquid volume\n",
    "e = Kla2(q2,lv2-lv_sig) #Kla value when liquid volume error is taken from the liquid volume"
   ]
  },
  {
   "cell_type": "markdown",
   "id": "a237e7bd",
   "metadata": {},
   "source": [
    "\\begin{equation}\n",
    "\\sigma_y^2 = \\sum_{j=1}^{n}\\left[\\frac{f(v_1, v_2,...,v_j + \\sigma_j,...,v_n)-f(v_1, v_2,...,v_j - \\sigma_j,...,v_n)}{2} \\right]^2 \n",
    "\\end{equation}"
   ]
  },
  {
   "cell_type": "code",
   "execution_count": 20,
   "id": "a112b89f",
   "metadata": {},
   "outputs": [],
   "source": [
    "f_var = (0.5*(b-c))**2\n",
    "lv_var = (0.5*(d-e))**2\n",
    "T_var = f_var+lv_var"
   ]
  },
  {
   "cell_type": "code",
   "execution_count": 21,
   "id": "f1f1825d",
   "metadata": {},
   "outputs": [],
   "source": [
    "kla_std = np.sqrt(T_var)"
   ]
  },
  {
   "cell_type": "code",
   "execution_count": 22,
   "id": "dce4123b",
   "metadata": {},
   "outputs": [
    {
     "name": "stdout",
     "output_type": "stream",
     "text": [
      "Calculus Approach Kla = 0.003551273513885442\n",
      "Monte Carlo approach Kla = 0.0035516020628327386\n",
      "Calculus Approach Final Error = 0.00014833115135173749\n",
      "Monte Carlo Approach Final Error = 5.08368355119112e-06\n"
     ]
    }
   ],
   "source": [
    "print(\"Calculus Approach Kla =\", a)\n",
    "print(\"Monte Carlo approach Kla =\", np.mean(Kla))\n",
    "\n",
    "print(\"Calculus Approach Final Error =\", kla_std)\n",
    "print(\"Monte Carlo Approach Final Error =\", np.std(Kla))"
   ]
  },
  {
   "cell_type": "code",
   "execution_count": 23,
   "id": "546467c7",
   "metadata": {},
   "outputs": [
    {
     "name": "stdout",
     "output_type": "stream",
     "text": [
      "0.9999608186703427 3.9181329657329385e-05\n"
     ]
    }
   ],
   "source": [
    "fc_fl = f_var/T_var #fractional contribution of flow rate uncertainty to the total error\n",
    "fc_LVs = lv_var/T_var #fractional contribution of the error in liquid volume  to the final uncertainty\n",
    "print(fc_fl,fc_LVs)"
   ]
  },
  {
   "cell_type": "code",
   "execution_count": 24,
   "id": "286ca862",
   "metadata": {},
   "outputs": [
    {
     "data": {
      "image/png": "[encoded data removed]",
      "text/plain": [
       "<Figure size 432x288 with 1 Axes>"
      ]
     },
     "metadata": {
      "needs_background": "light"
     },
     "output_type": "display_data"
    }
   ],
   "source": [
    "xbar=['a','b',]\n",
    "ybar=[fc_fl, fc_LVs]\n",
    "\n",
    "fig,ax=plt.subplots()\n",
    "ax.barh(xbar,ybar)\n",
    "plt.show() #most of the error in the mass transfer coefficient was due to error from the flow rate"
   ]
  },
  {
   "cell_type": "code",
   "execution_count": 25,
   "id": "e5d9762f",
   "metadata": {},
   "outputs": [
    {
     "name": "stdout",
     "output_type": "stream",
     "text": [
      "0.00014925672413378197\n"
     ]
    }
   ],
   "source": [
    "#worst error assuming all the errors are fully correlated\n",
    "f_dev = np.sqrt(f_var)\n",
    "lv_dev = np.sqrt (lv_var)\n",
    "w_err = f_dev + lv_dev #adding standard deviation due to  flow rate and liquid volume \n",
    "print(w_err)"
   ]
  },
  {
   "cell_type": "markdown",
   "id": "aa67a224",
   "metadata": {},
   "source": [
    "## Comparison with using uncertainties library on python"
   ]
  },
  {
   "cell_type": "markdown",
   "id": "14ea544d",
   "metadata": {},
   "source": [
    "https://pythonhosted.org/uncertainties/"
   ]
  },
  {
   "cell_type": "code",
   "execution_count": 26,
   "id": "f0a80c81",
   "metadata": {},
   "outputs": [],
   "source": [
    "import uncertainties as unc  \n",
    "import uncertainties.unumpy as unumpy "
   ]
  },
  {
   "cell_type": "code",
   "execution_count": 27,
   "id": "80ce8adc",
   "metadata": {},
   "outputs": [],
   "source": [
    "#read the data \n",
    "df2 = pd.read_csv('ErrorPropagation.csv')"
   ]
  },
  {
   "cell_type": "code",
   "execution_count": 28,
   "id": "28fd5dfe",
   "metadata": {},
   "outputs": [],
   "source": [
    "#convert to arrays\n",
    "tdat = np.asarray(df2['Time'],dtype='float')\n",
    "qdat = np.asarray(df2['Flow rate(ln/min)'],dtype='float')"
   ]
  },
  {
   "cell_type": "code",
   "execution_count": 29,
   "id": "53e99acf",
   "metadata": {},
   "outputs": [],
   "source": [
    "n = 1\n",
    "sig_q = 0.01\n",
    "sig_l = 0.001\n",
    "liq_vol = [0.53]"
   ]
  },
  {
   "cell_type": "code",
   "execution_count": 30,
   "id": "255208f3",
   "metadata": {},
   "outputs": [],
   "source": [
    "#generate random errors\n",
    "err_q = np.random.normal(0,sig_q,(n,len(qdat))) #random numbers generated around zero\n",
    "err_l = np.random.normal(0,sig_l,n)\n",
    "err_q = np.abs(err_q)\n",
    "err_l = np.abs(err_l)"
   ]
  },
  {
   "cell_type": "code",
   "execution_count": 31,
   "id": "037ac093",
   "metadata": {},
   "outputs": [
    {
     "name": "stdout",
     "output_type": "stream",
     "text": [
      "(1,)\n",
      "(1, 985)\n"
     ]
    }
   ],
   "source": [
    "#check output\n",
    "print(err_l.shape)\n",
    "print(err_q.shape)"
   ]
  },
  {
   "cell_type": "code",
   "execution_count": 32,
   "id": "89d7c436",
   "metadata": {},
   "outputs": [],
   "source": [
    "#add random error to flow rate\n",
    "qdat2=unumpy.uarray(qdat, err_q ) \n",
    "qdat2=qdat2.reshape(985,n)"
   ]
  },
  {
   "cell_type": "code",
   "execution_count": 33,
   "id": "51e5df9e",
   "metadata": {},
   "outputs": [
    {
     "name": "stdout",
     "output_type": "stream",
     "text": [
      "(985, 1)\n"
     ]
    }
   ],
   "source": [
    "print(qdat2.shape)"
   ]
  },
  {
   "cell_type": "code",
   "execution_count": 34,
   "id": "7295289e",
   "metadata": {},
   "outputs": [
    {
     "name": "stdout",
     "output_type": "stream",
     "text": [
      "(1,)\n"
     ]
    }
   ],
   "source": [
    "#add random error to liquid volume\n",
    "liq_vol2=unumpy.uarray(liq_vol, err_l )\n",
    "print(liq_vol2.shape)"
   ]
  },
  {
   "cell_type": "code",
   "execution_count": 35,
   "id": "d5395c6a",
   "metadata": {},
   "outputs": [],
   "source": [
    "def Kla3(q,l):\n",
    "    V = q*t\n",
    "    TV = np.cumsum(V,axis = 0)\n",
    "    Co = P*Vo/R/T/l\n",
    "    Cl = P*(Vo-TV)/R/T/l\n",
    "    y = unumpy.log((Cs-Co)/(Cs-Cl)) #use unumpy instead of numpy\n",
    "    return (y[900]-y[300])/(tdat[900]-tdat[300]) #no built in function for polyfit on uncertainties library"
   ]
  },
  {
   "cell_type": "code",
   "execution_count": 36,
   "id": "4f952f97",
   "metadata": {},
   "outputs": [
    {
     "name": "stdout",
     "output_type": "stream",
     "text": [
      "[0.0038516280425065236+/-5.9732120443978276e-06]\n",
      "0.0035516020628327386 5.08368355119112e-06\n"
     ]
    }
   ],
   "source": [
    "print(Kla3(qdat2,liq_vol2))\n",
    "print(np.mean(Kla), np.std(Kla))"
   ]
  },
  {
   "cell_type": "markdown",
   "id": "9eef5309",
   "metadata": {},
   "source": [
    "## Conclusion: \n",
    "- Huge difference in the result of the monte carlo method and the numerical approach. Numerical approach may only be accurate for very simple model (e.g x + y)\n",
    "- Monte Carlo method is known to be most accurate error propagation technique.\n",
    "- The uncertainties library uses the monte carlo approach; the results are just displayed differently."
   ]
  },
  {
   "cell_type": "code",
   "execution_count": null,
   "id": "c321654d",
   "metadata": {},
   "outputs": [],
   "source": []
  }
 ],
 "metadata": {
  "celltoolbar": "Slideshow",
  "kernelspec": {
   "display_name": "Python 3",
   "language": "python",
   "name": "python3"
  },
  "language_info": {
   "codemirror_mode": {
    "name": "ipython",
    "version": 3
   },
   "file_extension": ".py",
   "mimetype": "text/x-python",
   "name": "python",
   "nbconvert_exporter": "python",
   "pygments_lexer": "ipython3",
   "version": "3.8.8"
  }
 },
 "nbformat": 4,
 "nbformat_minor": 5
}
